{
 "cells": [
  {
   "cell_type": "code",
   "execution_count": 1,
   "metadata": {},
   "outputs": [],
   "source": [
    "import numpy as np\n",
    "import pandas as pd\n",
    "import matplotlib.pyplot as plt"
   ]
  },
  {
   "cell_type": "code",
   "execution_count": 2,
   "metadata": {},
   "outputs": [
    {
     "data": {
      "text/html": [
       "<div>\n",
       "<style scoped>\n",
       "    .dataframe tbody tr th:only-of-type {\n",
       "        vertical-align: middle;\n",
       "    }\n",
       "\n",
       "    .dataframe tbody tr th {\n",
       "        vertical-align: top;\n",
       "    }\n",
       "\n",
       "    .dataframe thead th {\n",
       "        text-align: right;\n",
       "    }\n",
       "</style>\n",
       "<table border=\"1\" class=\"dataframe\">\n",
       "  <thead>\n",
       "    <tr style=\"text-align: right;\">\n",
       "      <th></th>\n",
       "      <th></th>\n",
       "      <th>Optimal P-Envy</th>\n",
       "      <th>Wall Clock Time</th>\n",
       "    </tr>\n",
       "    <tr>\n",
       "      <th>Number of People</th>\n",
       "      <th>Number of Items</th>\n",
       "      <th></th>\n",
       "      <th></th>\n",
       "    </tr>\n",
       "  </thead>\n",
       "  <tbody>\n",
       "    <tr>\n",
       "      <td rowspan=\"5\" valign=\"top\">1</td>\n",
       "      <td>1</td>\n",
       "      <td>0.0</td>\n",
       "      <td>0.005029</td>\n",
       "    </tr>\n",
       "    <tr>\n",
       "      <td>2</td>\n",
       "      <td>0.0</td>\n",
       "      <td>0.005679</td>\n",
       "    </tr>\n",
       "    <tr>\n",
       "      <td>3</td>\n",
       "      <td>0.0</td>\n",
       "      <td>0.005747</td>\n",
       "    </tr>\n",
       "    <tr>\n",
       "      <td>4</td>\n",
       "      <td>0.0</td>\n",
       "      <td>0.005796</td>\n",
       "    </tr>\n",
       "    <tr>\n",
       "      <td>5</td>\n",
       "      <td>0.0</td>\n",
       "      <td>0.005711</td>\n",
       "    </tr>\n",
       "  </tbody>\n",
       "</table>\n",
       "</div>"
      ],
      "text/plain": [
       "                                  Optimal P-Envy  Wall Clock Time\n",
       "Number of People Number of Items                                 \n",
       "1                1                           0.0         0.005029\n",
       "                 2                           0.0         0.005679\n",
       "                 3                           0.0         0.005747\n",
       "                 4                           0.0         0.005796\n",
       "                 5                           0.0         0.005711"
      ]
     },
     "execution_count": 2,
     "metadata": {},
     "output_type": "execute_result"
    }
   ],
   "source": [
    "one_p_envy = pd.read_csv('onepenvy.csv')\n",
    "one_p_envy.head()\n",
    "one_mean_p_envy = one_p_envy.groupby(['Number of People', 'Number of Items']).mean()\n",
    "one_mean_p_envy.head()"
   ]
  },
  {
   "cell_type": "code",
   "execution_count": 3,
   "metadata": {},
   "outputs": [
    {
     "data": {
      "text/html": [
       "<div>\n",
       "<style scoped>\n",
       "    .dataframe tbody tr th:only-of-type {\n",
       "        vertical-align: middle;\n",
       "    }\n",
       "\n",
       "    .dataframe tbody tr th {\n",
       "        vertical-align: top;\n",
       "    }\n",
       "\n",
       "    .dataframe thead th {\n",
       "        text-align: right;\n",
       "    }\n",
       "</style>\n",
       "<table border=\"1\" class=\"dataframe\">\n",
       "  <thead>\n",
       "    <tr style=\"text-align: right;\">\n",
       "      <th></th>\n",
       "      <th>Number of People</th>\n",
       "      <th>Number of Items</th>\n",
       "      <th>Optimal P-Envy</th>\n",
       "      <th>Wall Clock Time</th>\n",
       "    </tr>\n",
       "  </thead>\n",
       "  <tbody>\n",
       "    <tr>\n",
       "      <td>0</td>\n",
       "      <td>1.0</td>\n",
       "      <td>1.0</td>\n",
       "      <td>0.0</td>\n",
       "      <td>0.025590</td>\n",
       "    </tr>\n",
       "    <tr>\n",
       "      <td>1</td>\n",
       "      <td>1.0</td>\n",
       "      <td>1.0</td>\n",
       "      <td>0.0</td>\n",
       "      <td>0.006110</td>\n",
       "    </tr>\n",
       "    <tr>\n",
       "      <td>2</td>\n",
       "      <td>1.0</td>\n",
       "      <td>1.0</td>\n",
       "      <td>0.0</td>\n",
       "      <td>0.005426</td>\n",
       "    </tr>\n",
       "    <tr>\n",
       "      <td>3</td>\n",
       "      <td>1.0</td>\n",
       "      <td>1.0</td>\n",
       "      <td>0.0</td>\n",
       "      <td>0.004971</td>\n",
       "    </tr>\n",
       "    <tr>\n",
       "      <td>4</td>\n",
       "      <td>1.0</td>\n",
       "      <td>1.0</td>\n",
       "      <td>0.0</td>\n",
       "      <td>0.005258</td>\n",
       "    </tr>\n",
       "  </tbody>\n",
       "</table>\n",
       "</div>"
      ],
      "text/plain": [
       "   Number of People  Number of Items  Optimal P-Envy  Wall Clock Time\n",
       "0               1.0              1.0             0.0         0.025590\n",
       "1               1.0              1.0             0.0         0.006110\n",
       "2               1.0              1.0             0.0         0.005426\n",
       "3               1.0              1.0             0.0         0.004971\n",
       "4               1.0              1.0             0.0         0.005258"
      ]
     },
     "execution_count": 3,
     "metadata": {},
     "output_type": "execute_result"
    }
   ],
   "source": [
    "p_envy = pd.read_csv('penvy.csv', index_col=0)\n",
    "p_envy = p_envy[p_envy['Number of People'] <= 10]\n",
    "p_envy = p_envy[p_envy['Number of Items'] <= 10]\n",
    "p_envy.head()"
   ]
  },
  {
   "cell_type": "code",
   "execution_count": 4,
   "metadata": {},
   "outputs": [
    {
     "data": {
      "text/html": [
       "<div>\n",
       "<style scoped>\n",
       "    .dataframe tbody tr th:only-of-type {\n",
       "        vertical-align: middle;\n",
       "    }\n",
       "\n",
       "    .dataframe tbody tr th {\n",
       "        vertical-align: top;\n",
       "    }\n",
       "\n",
       "    .dataframe thead th {\n",
       "        text-align: right;\n",
       "    }\n",
       "</style>\n",
       "<table border=\"1\" class=\"dataframe\">\n",
       "  <thead>\n",
       "    <tr style=\"text-align: right;\">\n",
       "      <th></th>\n",
       "      <th></th>\n",
       "      <th>Optimal P-Envy</th>\n",
       "      <th>Wall Clock Time</th>\n",
       "    </tr>\n",
       "    <tr>\n",
       "      <th>Number of People</th>\n",
       "      <th>Number of Items</th>\n",
       "      <th></th>\n",
       "      <th></th>\n",
       "    </tr>\n",
       "  </thead>\n",
       "  <tbody>\n",
       "    <tr>\n",
       "      <td rowspan=\"5\" valign=\"top\">1.0</td>\n",
       "      <td>1.0</td>\n",
       "      <td>0.0</td>\n",
       "      <td>0.006305</td>\n",
       "    </tr>\n",
       "    <tr>\n",
       "      <td>2.0</td>\n",
       "      <td>0.0</td>\n",
       "      <td>0.005499</td>\n",
       "    </tr>\n",
       "    <tr>\n",
       "      <td>3.0</td>\n",
       "      <td>0.0</td>\n",
       "      <td>0.005477</td>\n",
       "    </tr>\n",
       "    <tr>\n",
       "      <td>4.0</td>\n",
       "      <td>0.0</td>\n",
       "      <td>0.005235</td>\n",
       "    </tr>\n",
       "    <tr>\n",
       "      <td>5.0</td>\n",
       "      <td>0.0</td>\n",
       "      <td>0.005193</td>\n",
       "    </tr>\n",
       "  </tbody>\n",
       "</table>\n",
       "</div>"
      ],
      "text/plain": [
       "                                  Optimal P-Envy  Wall Clock Time\n",
       "Number of People Number of Items                                 \n",
       "1.0              1.0                         0.0         0.006305\n",
       "                 2.0                         0.0         0.005499\n",
       "                 3.0                         0.0         0.005477\n",
       "                 4.0                         0.0         0.005235\n",
       "                 5.0                         0.0         0.005193"
      ]
     },
     "execution_count": 4,
     "metadata": {},
     "output_type": "execute_result"
    }
   ],
   "source": [
    "mean_p_envy = p_envy.groupby(['Number of People', 'Number of Items']).mean()\n",
    "mean_p_envy.head()"
   ]
  },
  {
   "cell_type": "code",
   "execution_count": 5,
   "metadata": {},
   "outputs": [
    {
     "data": {
      "image/png": "[encoded data removed]",
      "text/plain": [
       "<Figure size 432x288 with 2 Axes>"
      ]
     },
     "metadata": {
      "needs_background": "light"
     },
     "output_type": "display_data"
    }
   ],
   "source": [
    "z = mean_p_envy['Optimal P-Envy'].values.reshape((10,10));\n",
    "plt.pcolormesh(np.arange(1,11), np.arange(1,11), z, vmin=0, vmax=1);\n",
    "plt.colorbar(label=r\"$p^*$-envy\");\n",
    "plt.title(r\"Mean $p^*$-envy\")\n",
    "plt.xlabel(\"Number of Items\")\n",
    "plt.ylabel(\"Number of People\");\n",
    "plt.savefig('optimal_p_envy.pdf')"
   ]
  },
  {
   "cell_type": "code",
   "execution_count": 6,
   "metadata": {},
   "outputs": [
    {
     "data": {
      "image/png": "[encoded data removed]",
      "text/plain": [
       "<Figure size 432x288 with 2 Axes>"
      ]
     },
     "metadata": {
      "needs_background": "light"
     },
     "output_type": "display_data"
    }
   ],
   "source": [
    "z = np.log(mean_p_envy['Wall Clock Time'].values.reshape((10,10)));\n",
    "plt.pcolormesh(np.arange(1,11), np.arange(1,11), z);\n",
    "plt.colorbar(label=r\"log Wall Clock Time\");\n",
    "plt.title(r\"Mean log Wall Clock Time\")\n",
    "plt.xlabel(\"Number of Items\")\n",
    "plt.ylabel(\"Number of People\");\n",
    "plt.savefig(\"Mean_log_Wall_Clock_Time.pdf\")"
   ]
  },
  {
   "cell_type": "code",
   "execution_count": null,
   "metadata": {},
   "outputs": [],
   "source": []
  },
  {
   "cell_type": "code",
   "execution_count": 7,
   "metadata": {},
   "outputs": [
    {
     "data": {
      "image/png": "[encoded data removed]",
      "text/plain": [
       "<Figure size 432x288 with 2 Axes>"
      ]
     },
     "metadata": {
      "needs_background": "light"
     },
     "output_type": "display_data"
    }
   ],
   "source": [
    "z = one_mean_p_envy['Optimal P-Envy'].values.reshape((7,7));\n",
    "plt.pcolormesh(np.arange(1,8), np.arange(1,8), z);\n",
    "plt.colorbar(label=r\"$p^*$-envy\");\n",
    "plt.title(r\"Mean One $p^*$-envy\")\n",
    "plt.xlabel(\"Number of Items\")\n",
    "plt.ylabel(\"Number of People\");\n",
    "plt.savefig('optimal_one_p_envy.pdf')"
   ]
  },
  {
   "cell_type": "code",
   "execution_count": 8,
   "metadata": {},
   "outputs": [
    {
     "data": {
      "image/png": "[encoded data removed]",
      "text/plain": [
       "<Figure size 432x288 with 2 Axes>"
      ]
     },
     "metadata": {
      "needs_background": "light"
     },
     "output_type": "display_data"
    }
   ],
   "source": [
    "z = np.log(one_mean_p_envy['Wall Clock Time'].values.reshape((7,7)));\n",
    "plt.pcolormesh(np.arange(1,8), np.arange(1,8), z);\n",
    "plt.colorbar(label=r\"log Wall Clock Time\");\n",
    "plt.title(r\"One Mean log Wall Clock Time\")\n",
    "plt.xlabel(\"Number of Items\")\n",
    "plt.ylabel(\"Number of People\");\n",
    "plt.savefig(\"one_Mean_log_Wall_Clock_Time.pdf\")"
   ]
  },
  {
   "cell_type": "code",
   "execution_count": 9,
   "metadata": {},
   "outputs": [],
   "source": [
    "dfs = [pd.read_csv(f'money_penvy_{m}_good.csv') for m in [0.25, 0.5, 1, 2]]"
   ]
  },
  {
   "cell_type": "code",
   "execution_count": 10,
   "metadata": {},
   "outputs": [],
   "source": [
    "dfs_means = [df.groupby(['Number of People', 'Number of Items']).mean() for df in dfs]"
   ]
  },
  {
   "cell_type": "code",
   "execution_count": 11,
   "metadata": {},
   "outputs": [
    {
     "ename": "AttributeError",
     "evalue": "'Figure' object has no attribute 'xlabel'",
     "output_type": "error",
     "traceback": [
      "\u001b[0;31m---------------------------------------------------------------------------\u001b[0m",
      "\u001b[0;31mAttributeError\u001b[0m                            Traceback (most recent call last)",
      "\u001b[0;32m<ipython-input-11-8a160d53bdd7>\u001b[0m in \u001b[0;36m<module>\u001b[0;34m()\u001b[0m\n\u001b[1;32m      4\u001b[0m \u001b[0maxs\u001b[0m\u001b[0;34m[\u001b[0m\u001b[0;36m0\u001b[0m\u001b[0;34m,\u001b[0m\u001b[0;36m0\u001b[0m\u001b[0;34m]\u001b[0m\u001b[0;34m.\u001b[0m\u001b[0mpcolormesh\u001b[0m\u001b[0;34m(\u001b[0m\u001b[0mnp\u001b[0m\u001b[0;34m.\u001b[0m\u001b[0marange\u001b[0m\u001b[0;34m(\u001b[0m\u001b[0;36m1\u001b[0m\u001b[0;34m,\u001b[0m\u001b[0;36m8\u001b[0m\u001b[0;34m)\u001b[0m\u001b[0;34m,\u001b[0m \u001b[0mnp\u001b[0m\u001b[0;34m.\u001b[0m\u001b[0marange\u001b[0m\u001b[0;34m(\u001b[0m\u001b[0;36m1\u001b[0m\u001b[0;34m,\u001b[0m\u001b[0;36m8\u001b[0m\u001b[0;34m)\u001b[0m\u001b[0;34m,\u001b[0m \u001b[0mz\u001b[0m\u001b[0;34m,\u001b[0m \u001b[0mvmin\u001b[0m\u001b[0;34m=\u001b[0m\u001b[0;36m0\u001b[0m\u001b[0;34m,\u001b[0m \u001b[0mvmax\u001b[0m\u001b[0;34m=\u001b[0m\u001b[0;36m1\u001b[0m\u001b[0;34m)\u001b[0m\u001b[0;34m;\u001b[0m\u001b[0;34m\u001b[0m\u001b[0;34m\u001b[0m\u001b[0m\n\u001b[1;32m      5\u001b[0m \u001b[0maxs\u001b[0m\u001b[0;34m[\u001b[0m\u001b[0;36m0\u001b[0m\u001b[0;34m,\u001b[0m\u001b[0;36m0\u001b[0m\u001b[0;34m]\u001b[0m\u001b[0;34m.\u001b[0m\u001b[0mset_title\u001b[0m\u001b[0;34m(\u001b[0m\u001b[0;34mr\"Mean One $p^*$-envy\"\u001b[0m\u001b[0;34m)\u001b[0m\u001b[0;34m\u001b[0m\u001b[0;34m\u001b[0m\u001b[0m\n\u001b[0;32m----> 6\u001b[0;31m \u001b[0mfig\u001b[0m\u001b[0;34m.\u001b[0m\u001b[0mxlabel\u001b[0m\u001b[0;34m(\u001b[0m\u001b[0;34m\"Number of Items\"\u001b[0m\u001b[0;34m)\u001b[0m\u001b[0;34m\u001b[0m\u001b[0;34m\u001b[0m\u001b[0m\n\u001b[0m\u001b[1;32m      7\u001b[0m \u001b[0maxs\u001b[0m\u001b[0;34m[\u001b[0m\u001b[0;36m0\u001b[0m\u001b[0;34m,\u001b[0m\u001b[0;36m0\u001b[0m\u001b[0;34m]\u001b[0m\u001b[0;34m.\u001b[0m\u001b[0mset_ylabel\u001b[0m\u001b[0;34m(\u001b[0m\u001b[0;34m\"Number of People\"\u001b[0m\u001b[0;34m)\u001b[0m\u001b[0;34m;\u001b[0m\u001b[0;34m\u001b[0m\u001b[0;34m\u001b[0m\u001b[0m\n\u001b[1;32m      8\u001b[0m \u001b[0;34m\u001b[0m\u001b[0m\n",
      "\u001b[0;31mAttributeError\u001b[0m: 'Figure' object has no attribute 'xlabel'"
     ]
    },
    {
     "data": {
      "image/png": "[encoded data removed]",
      "text/plain": [
       "<Figure size 432x288 with 4 Axes>"
      ]
     },
     "metadata": {
      "needs_background": "light"
     },
     "output_type": "display_data"
    }
   ],
   "source": [
    "# fig, axs = plt.subplots(2, 2, sharex=True, sharey=True)\n",
    "\n",
    "# z = one_mean_p_envy['Optimal P-Envy'].values.reshape((7,7));\n",
    "# axs[0,0].pcolormesh(np.arange(1,8), np.arange(1,8), z, vmin=0, vmax=1);\n",
    "# axs[0,0].set_title(r\"Mean One $p^*$-envy\")\n",
    "# fig.xlabel(\"Number of Items\")\n",
    "# axs[0,0].set_ylabel(\"Number of People\");\n",
    "\n",
    "# z = one_mean_p_envy['Optimal P-Envy'].values.reshape((7,7));\n",
    "# axs[1,0].pcolormesh(np.arange(1,8), np.arange(1,8), z, vmin=0, vmax=1);\n",
    "# axs[1,0].set_title(r\"Mean One $p^*$-envy\")\n",
    "# axs[1,0].set_xlabel(\"Number of Items\")\n",
    "# axs[1,0].set_ylabel(\"Number of People\");\n",
    "\n",
    "# z = one_mean_p_envy['Optimal P-Envy'].values.reshape((7,7));\n",
    "# axs[0,0].pcolormesh(np.arange(1,8), np.arange(1,8), z, vmin=0, vmax=1);\n",
    "# axs[0,0].set_title(r\"Mean One $p^*$-envy\")\n",
    "# axs[0,0].set_xlabel(\"Number of Items\")\n",
    "# axs[0,0].set_ylabel(\"Number of People\");\n",
    "\n",
    "# z = one_mean_p_envy['Optimal P-Envy'].values.reshape((7,7));\n",
    "# axs[0,0].pcolormesh(np.arange(1,8), np.arange(1,8), z, vmin=0, vmax=1);\n",
    "# axs[0,0].set_title(r\"Mean One $p^*$-envy\")\n",
    "# axs[0,0].set_xlabel(\"Number of Items\")\n",
    "# axs[0,0].set_ylabel(\"Number of People\");"
   ]
  },
  {
   "cell_type": "code",
   "execution_count": null,
   "metadata": {},
   "outputs": [],
   "source": [
    "fig = plt.figure(figsize=(12,10))\n",
    "ax = fig.add_subplot(111)    # The big subplot\n",
    "ax1 = fig.add_subplot(221)\n",
    "ax2 = fig.add_subplot(222)\n",
    "ax3 = fig.add_subplot(223)\n",
    "ax4 = fig.add_subplot(224)\n",
    "ax.set_xlabel(\"Number of Items\", fontsize=16);\n",
    "ax.set_ylabel(\"Number of People\", fontsize=16);\n",
    "ax.spines['top'].set_color('none')\n",
    "ax.spines['bottom'].set_color('none')\n",
    "ax.spines['left'].set_color('none')\n",
    "ax.spines['right'].set_color('none')\n",
    "ax.tick_params(labelcolor='w', top=False, bottom=False, left=False, right=False)\n",
    "ax1.set_xticklabels([])\n",
    "ax2.set_xticklabels([])\n",
    "ax2.set_yticklabels([])\n",
    "ax4.set_yticklabels([]);\n",
    "\n",
    "\n",
    "z = dfs_means[0]['Optimal P-Envy'].values.reshape((10,10));\n",
    "im = ax1.pcolormesh(np.arange(1,11), np.arange(1,11), z, vmin=0, vmax=1);\n",
    "ax1.set_title(\"$0.25\")\n",
    "\n",
    "z = dfs_means[1]['Optimal P-Envy'].values.reshape((10,10));\n",
    "im = ax2.pcolormesh(np.arange(1,11), np.arange(1,11), z, vmin=0, vmax=1);\n",
    "ax2.set_title(\"$0.5\")\n",
    "\n",
    "z = dfs_means[2]['Optimal P-Envy'].values.reshape((10,10));\n",
    "im = ax3.pcolormesh(np.arange(1,11), np.arange(1,11), z, vmin=0, vmax=1);\n",
    "ax3.set_title(\"$1.00\")\n",
    "\n",
    "z = dfs_means[3]['Optimal P-Envy'].values.reshape((10,10));\n",
    "im = ax4.pcolormesh(np.arange(1,11), np.arange(1,11), z, vmin=0, vmax=1);\n",
    "ax4.set_title(\"$2\")\n",
    "\n",
    "\n",
    "fig.colorbar(im, ax=[ax1, ax2, ax3, ax4, ax], label=r\"$p^*$-envy\");\n",
    "\n",
    "fig.suptitle('Money P-Envy', fontsize=16);\n",
    "\n",
    "fig.savefig('Money_P-Envy.pdf')"
   ]
  },
  {
   "cell_type": "code",
   "execution_count": null,
   "metadata": {},
   "outputs": [],
   "source": [
    "fig = plt.figure(figsize=(12,10))\n",
    "ax = fig.add_subplot(111)    # The big subplot\n",
    "ax1 = fig.add_subplot(221)\n",
    "ax2 = fig.add_subplot(222)\n",
    "ax3 = fig.add_subplot(223)\n",
    "ax4 = fig.add_subplot(224)\n",
    "ax.set_xlabel(\"Number of Items\", fontsize=16);\n",
    "ax.set_ylabel(\"Number of People\", fontsize=16);\n",
    "ax.spines['top'].set_color('none')\n",
    "ax.spines['bottom'].set_color('none')\n",
    "ax.spines['left'].set_color('none')\n",
    "ax.spines['right'].set_color('none')\n",
    "ax.tick_params(labelcolor='w', top=False, bottom=False, left=False, right=False)\n",
    "ax1.set_xticklabels([])\n",
    "ax2.set_xticklabels([])\n",
    "ax2.set_yticklabels([])\n",
    "ax4.set_yticklabels([]);\n",
    "\n",
    "vmin = np.inf\n",
    "vmax = -np.inf\n",
    "for i in range(4):\n",
    "    test_max = np.max(np.log(dfs_means[i]['Wall Clock Time'].values.reshape((10,10))))\n",
    "    test_min = np.min(np.log(dfs_means[i]['Wall Clock Time'].values.reshape((10,10))))\n",
    "    vmin = min(vmin, test_min)\n",
    "    vmax = max(vmax, test_max)\n",
    "\n",
    "\n",
    "z = np.log(dfs_means[0]['Wall Clock Time'].values.reshape((10,10)));\n",
    "im = ax1.pcolormesh(np.arange(1,11), np.arange(1,11), z, vmin=vmin, vmax=vmax);\n",
    "ax1.set_title(\"$0.25\")\n",
    "\n",
    "z = np.log(dfs_means[1]['Wall Clock Time'].values.reshape((10,10)));\n",
    "im = ax2.pcolormesh(np.arange(1,11), np.arange(1,11), z, vmin=vmin, vmax=vmax);\n",
    "ax2.set_title(\"$0.5\")\n",
    "\n",
    "z = np.log(dfs_means[2]['Wall Clock Time'].values.reshape((10,10)));\n",
    "im = ax3.pcolormesh(np.arange(1,11), np.arange(1,11), z, vmin=vmin, vmax=vmax);\n",
    "ax3.set_title(\"$1.00\")\n",
    "\n",
    "z = np.log(dfs_means[3]['Wall Clock Time'].values.reshape((10,10)));\n",
    "im = ax4.pcolormesh(np.arange(1,11), np.arange(1,11), z, vmin=vmin, vmax=vmax);\n",
    "ax4.set_title(\"$2\")\n",
    "\n",
    "\n",
    "fig.colorbar(im, ax=[ax1, ax2, ax3, ax4, ax], label=r\"log Wall Clock Time\");\n",
    "\n",
    "fig.suptitle('Money Time', fontsize=16);\n",
    "\n",
    "fig.savefig('Money_Time.pdf')"
   ]
  },
  {
   "cell_type": "code",
   "execution_count": null,
   "metadata": {},
   "outputs": [],
   "source": [
    "df = pd.read_csv('part4.csv')\n",
    "df_mean = df.groupby(['Number of People', 'Number of Items']).mean()"
   ]
  },
  {
   "cell_type": "code",
   "execution_count": null,
   "metadata": {},
   "outputs": [],
   "source": [
    "fig = plt.figure(figsize=(12,5))\n",
    "ax = fig.add_subplot(111)    # The big subplot\n",
    "ax1 = fig.add_subplot(121)\n",
    "ax2 = fig.add_subplot(122)\n",
    "ax.set_xlabel(\"Number of Items\", fontsize=16);\n",
    "ax.set_ylabel(\"Number of People\", fontsize=16);\n",
    "ax.spines['top'].set_color('none')\n",
    "ax.spines['bottom'].set_color('none')\n",
    "ax.spines['left'].set_color('none')\n",
    "ax.spines['right'].set_color('none')\n",
    "ax.tick_params(labelcolor='w', top=False, bottom=False, left=False, right=False)\n",
    "ax2.set_yticklabels([])\n",
    "ax4.set_yticklabels([]);\n",
    "\n",
    "\n",
    "z =mean_p_envy['Optimal P-Envy'].values.reshape((10,10));\n",
    "im = ax1.pcolormesh(np.arange(1,11), np.arange(1,11), z, vmin=0, vmax=1);\n",
    "ax1.set_title(\"Old\")\n",
    "\n",
    "z = df_mean['Optimal P-Envy'].values.reshape((10,10));\n",
    "im = ax2.pcolormesh(np.arange(1,11), np.arange(1,11), z, vmin=0, vmax=1);\n",
    "ax2.set_title(\"New\")\n",
    "\n",
    "\n",
    "fig.colorbar(im, ax=[ax1, ax2, ax], label=r\"$p^*$-envy\");\n",
    "\n",
    "fig.suptitle('P-Envy Generation', fontsize=16);\n",
    "\n",
    "fig.savefig('Part4_penvy.pdf')"
   ]
  },
  {
   "cell_type": "code",
   "execution_count": null,
   "metadata": {},
   "outputs": [],
   "source": [
    "fig = plt.figure(figsize=(12,5))\n",
    "ax = fig.add_subplot(111)    # The big subplot\n",
    "ax1 = fig.add_subplot(121)\n",
    "ax2 = fig.add_subplot(122)\n",
    "ax.set_xlabel(\"Number of Items\", fontsize=16);\n",
    "ax.set_ylabel(\"Number of People\", fontsize=16);\n",
    "ax.spines['top'].set_color('none')\n",
    "ax.spines['bottom'].set_color('none')\n",
    "ax.spines['left'].set_color('none')\n",
    "ax.spines['right'].set_color('none')\n",
    "ax.tick_params(labelcolor='w', top=False, bottom=False, left=False, right=False)\n",
    "ax2.set_yticklabels([])\n",
    "ax4.set_yticklabels([]);\n",
    "\n",
    "vmin = np.inf\n",
    "vmax = -np.inf\n",
    "for i in [mean_p_envy, df_mean]:\n",
    "    test_max = np.max(np.log(i['Wall Clock Time'].values.reshape((10,10))))\n",
    "    test_min = np.min(np.log(i['Wall Clock Time'].values.reshape((10,10))))\n",
    "    vmin = min(vmin, test_min)\n",
    "    vmax = max(vmax, test_max)\n",
    "    \n",
    "\n",
    "z = np.log(mean_p_envy['Wall Clock Time'].values.reshape((10,10)));\n",
    "im = ax1.pcolormesh(np.arange(1,11), np.arange(1,11), z, vmin=vmin, vmax=vmax);\n",
    "ax1.set_title(\"Old\")\n",
    "\n",
    "z = np.log(df_mean['Wall Clock Time'].values.reshape((10,10)));\n",
    "im = ax2.pcolormesh(np.arange(1,11), np.arange(1,11), z, vmin=vmin, vmax=vmax);\n",
    "ax2.set_title(\"New\")\n",
    "\n",
    "\n",
    "fig.colorbar(im, ax=[ax1, ax2, ax], label=r\"log Wall Clock Time\");\n",
    "\n",
    "fig.suptitle('P-Envy Generation', fontsize=16);\n",
    "\n",
    "fig.savefig('Part4_time.pdf')"
   ]
  },
  {
   "cell_type": "code",
   "execution_count": null,
   "metadata": {},
   "outputs": [],
   "source": []
  }
 ],
 "metadata": {
  "kernelspec": {
   "display_name": "Python 3",
   "language": "python",
   "name": "python3"
  },
  "language_info": {
   "codemirror_mode": {
    "name": "ipython",
    "version": 3
   },
   "file_extension": ".py",
   "mimetype": "text/x-python",
   "name": "python",
   "nbconvert_exporter": "python",
   "pygments_lexer": "ipython3",
   "version": "3.7.4"
  }
 },
 "nbformat": 4,
 "nbformat_minor": 2
}
